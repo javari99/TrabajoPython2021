{
 "metadata": {
  "language_info": {
   "codemirror_mode": {
    "name": "ipython",
    "version": 3
   },
   "file_extension": ".py",
   "mimetype": "text/x-python",
   "name": "python",
   "nbconvert_exporter": "python",
   "pygments_lexer": "ipython3",
   "version": "3.7.9-final"
  },
  "orig_nbformat": 2,
  "kernelspec": {
   "name": "python379jvsc74a57bd0fd3a8996e0acf5343d074e675d410fb19183f797a5c70d53c910525512c681cc",
   "display_name": "Python 3.7.9 64-bit ('venv')"
  },
  "metadata": {
   "interpreter": {
    "hash": "ac59ebe37160ed0dfa835113d9b8498d9f09ceb179beaac4002f036b9467c963"
   }
  }
 },
 "nbformat": 4,
 "nbformat_minor": 2,
 "cells": [
  {
   "cell_type": "code",
   "execution_count": 6,
   "metadata": {},
   "outputs": [
    {
     "output_type": "stream",
     "name": "stdout",
     "text": [
      "12OCR (1) : None\n5ffe46bfc08b4 : None\nIVALINEAS1 (1) : (962.0, 202.02)\nIVALINEAS2 (1) : None\nIVALINEAS3 (1) : None\nIVANORMAL2 (1) : None\nIVANORMAL3 (1) : (17890.0, 3756.9)\ncodigoqr : (714.0, 136.0)\nfactura-luz : (31.65, 5.06)\nmodelo-factura-es-clasico-blanco-750px : (165.0, 34.65)\nmodelo-factura-es-puro-750px : (165.0, 34.65)\nprueba 1_1 : None\nprueba 1_10 : (3392.17, 712.36)\nprueba 1_11 : (727.49, 152.77)\nprueba 1_2 : None\nprueba 1_3 : (9.89, 2.08)\nprueba 1_4 : None\nprueba 1_5 : None\nprueba 1_6 : None\nprueba 1_9 : (2981.79, 626.18)\nticket : (597.0, 125.37)\n\n\n\n\nDiccionario intermedio:\n{'12OCR (1)': {'NIF': ['B60593498', 'B61127122'], 'ListaPrecios': [1.0, 4.2], 'Precio Total': 4.2}, '5ffe46bfc08b4': {'NIF': [], 'ListaPrecios': [1.0, 12100.0, 9.9, 10000.0, 0.9, 9.0, 2100.0, 12100.0, 786500.0], 'Precio Total': 786500.0}, 'IVALINEAS1 (1)': {'NIF': [], 'ListaPrecios': [1.0, 962.0, 962.0, 962.0, 962.0, 202.02, 1164.02, 1164.02], 'Precio Total': 1164.02}, 'IVALINEAS2 (1)': {'NIF': ['E-06227490', 'A-06141345'], 'ListaPrecios': [6.0, 468.0, 10.0, 20.0, 10.0, 40.0, 4.06, 316.68, 0.02, 1.62, 6.0, 468.0, 10.0, 20.0, 10.0, 40.0, 316.68, 31.67, 348.35], 'Precio Total': 468.0}, 'IVALINEAS3 (1)': {'NIF': ['A-06141345'], 'ListaPrecios': [2.08, 3.2, 3.87], 'Precio Total': 3.87}, 'IVANORMAL2 (1)': {'NIF': ['A06141345'], 'ListaPrecios': [24.9, 120.0, 120.27, 5.14, 30.0, 6.27, 119.14, 21.0, 25.02, 119.14, 15.0, 17.87, 156.29, 5.0], 'Precio Total': 156.29}, 'IVANORMAL3 (1)': {'NIF': ['B84866714', 'A06141345'], 'ListaPrecios': [17890.0, 17890.0, 3756.9, 17890.0, 21646.9], 'Precio Total': 21646.9}, 'codigoqr': {'NIF': [], 'ListaPrecios': [1.0, 450.0, 19.0, 450.0, 1.0, 400.0, 19.0, 400.0, 2.0, 714.0, 714.0, 136.0, 850.0], 'Precio Total': 850.0}, 'factura-luz': {'NIF': [], 'ListaPrecios': [3.45, 3.45, 5.5, 5.51, 11.47, 24.09, 4.86, 1.05, 1.51, 1.87, 0.54, 31.65, 5.06, 36.71, 15.07], 'Precio Total': 36.71}, 'modelo-factura-es-clasico-blanco-750px': {'NIF': [], 'ListaPrecios': [100.0, 100.0, 25.0, 50.0, 5.0, 15.0, 165.0, 34.65, 199.65], 'Precio Total': 199.65}, 'modelo-factura-es-puro-750px': {'NIF': [], 'ListaPrecios': [100.0, 100.0, 25.0, 50.0, 5.0, 15.0, 165.0, 34.65, 199.65], 'Precio Total': 199.65}, 'prueba 1_1': {'NIF': ['A-95758389', '12164189H'], 'ListaPrecios': [86.32, 70.05, 1.29, 71.34, 14.98, 86.32, 2.97, 2.58, 32.32, 19.89, 11.14, 1.29], 'Precio Total': 86.32}, 'prueba 1_10': {'NIF': ['B47776067', '12164189H'], 'ListaPrecios': [96.0, 1.83, 175.68, 10.0, 158.11, 30.0, 2.85, 85.5, 10.0, 76.95, 168.0, 2.5, 420.0, 10.0, 378.0, 120.0, 2.66, 319.2, 10.0, 287.28, 90.0, 3.65, 328.5, 10.0, 295.65, 24.0, 19.15, 459.6, 10.0, 413.64, 180.0, 3.71, 667.8, 10.0, 601.02, 270.0, 3.28, 885.6, 10.0, 797.04, 120.0, 3.56, 427.2, 10.0, 384.48, 3392.17, 712.36, 21.0, 3392.17, 4104.53, 4104.53], 'Precio Total': 4104.53}, 'prueba 1_11': {'NIF': ['B47776067', '12164189H'], 'ListaPrecios': [24.0, 2.5, 60.0, 10.0, 54.0, 24.0, 1.83, 43.92, 10.0, 39.53, 90.0, 3.28, 295.2, 10.0, 265.68, 30.0, 3.56, 106.8, 10.0, 96.12, 30.0, 2.66, 79.8, 10.0, 71.82, 60.0, 3.71, 222.6, 10.0, 200.34, 21.0, 727.49, 727.49, 152.77, 880.26, 880.26], 'Precio Total': 880.26}, 'prueba 1_2': {'NIF': ['12164189H'], 'ListaPrecios': [66.67, 53.85, 1.25, 66.67, 2.49, 27.81, 19.21, 1.25], 'Precio Total': 66.67}, 'prueba 1_3': {'NIF': ['12164189H', 'A28815017'], 'ListaPrecios': [0.99, 9.43, 8.44, 8.44, 0.99, 9.89, 9.43, 0.46, 8.44, 11.97, 9.89, 2.08, 11.97], 'Precio Total': 11.97}, 'prueba 1_4': {'NIF': ['B74349713', '12164189H'], 'ListaPrecios': [1.36, 21.0, 78.64, 67.85, 1.17, 1.19, 1.38, 21.0, 81.63, 69.23, 160.27, 137.09, 132.45, 132.45, 27.82, 160.27, 132.45, 21.0, 27.82], 'Precio Total': 160.27}, 'prueba 1_5': {'NIF': ['12164189H', 'A83052407'], 'ListaPrecios': [10.7, 2.0], 'Precio Total': 10.7}, 'prueba 1_6': {'NIF': ['12164189H', 'A83052407'], 'ListaPrecios': [0.65], 'Precio Total': 0.65}, 'prueba 1_9': {'NIF': ['B47776067', '12164189H'], 'ListaPrecios': [18.0, 16.8, 302.4, 10.0, 272.16, 90.0, 3.56, 320.4, 10.0, 288.36, 240.0, 2.5, 600.0, 10.0, 540.0, 120.0, 1.83, 219.6, 10.0, 197.64, 90.0, 0.52, 46.8, 10.0, 42.12, 120.0, 3.71, 445.2, 10.0, 400.68, 15.0, 36.8, 552.0, 10.0, 496.8, 30.0, 2.85, 85.5, 10.0, 76.95, 30.0, 2.66, 79.8, 10.0, 71.82, 90.0, 3.28, 295.2, 10.0, 265.68, 60.0, 3.78, 226.8, 10.0, 204.12, 4.0, 34.85, 139.4, 10.0, 125.46, 21.0, 2981.79, 2981.79, 626.18, 3607.97, 3607.97], 'Precio Total': 3607.97}, 'ticket': {'NIF': [], 'ListaPrecios': [90.0, 90.0, 108.9, 70.0, 70.0, 84.7, 25.0, 25.0, 30.25, 356.0, 356.0, 430.76, 22.0, 22.0, 26.62, 22.0, 22.0, 26.62, 12.0, 12.0, 14.52, 597.0, 125.37, 722.37], 'Precio Total': 722.37}}\n"
     ]
    }
   ],
   "source": [
    "import json\n",
    "import regex as re\n",
    "from babel.numbers import parse_decimal\n",
    "from funcionesArin import twoSum, twoSumGetMostLikely, findNIF, getAllPricesAndTotal\n",
    "\n",
    "with open(\"../dict_wB.json\", 'r') as fp:\n",
    "    data = json.load(fp)\n",
    "\n",
    "# Lista de nombres de archivos\n",
    "# print(data.keys())\n",
    "keys = data.keys()\n",
    "arr = []\n",
    "\n",
    "# para leer el contenido de uno de los archivos a secas usar data[nombrearchivo]\n",
    "for filename in data.keys():\n",
    "    dic = {}\n",
    "    #Recogemos los NIF de los archivos\n",
    "    matches = findNIF(data[filename])\n",
    "    dic[\"NIF\"] = matches\n",
    "\n",
    "\n",
    "    (matches, maximum) = getAllPricesAndTotal(data[filename])\n",
    "    dic[\"ListaPrecios\"] = matches\n",
    "    dic[\"Precio Total\"] = maximum\n",
    "\n",
    "    # Vamos a intentar sacar el PRECIO BASE a partir del PRECIO TOTAL\n",
    "    sumtwo = twoSumGetMostLikely(matches, maximum)\n",
    "    print(f\"{filename} : {sumtwo}\")\n",
    "\n",
    "    arr.append(dic)\n",
    "\n",
    "newdic = dict(zip(keys,arr))\n",
    "print(\"\\n\\n\\n\\nDiccionario intermedio:\")\n",
    "print(newdic)\n",
    "\n",
    "with open('NIF.txt', 'w') as f:\n",
    "    for filename in newdic.keys():\n",
    "        f.write(f'{filename}: {newdic[filename]}\\n')"
   ]
  },
  {
   "cell_type": "code",
   "execution_count": null,
   "metadata": {},
   "outputs": [],
   "source": []
  }
 ]
}