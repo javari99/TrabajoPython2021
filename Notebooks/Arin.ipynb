{
 "metadata": {
  "language_info": {
   "codemirror_mode": {
    "name": "ipython",
    "version": 3
   },
   "file_extension": ".py",
   "mimetype": "text/x-python",
   "name": "python",
   "nbconvert_exporter": "python",
   "pygments_lexer": "ipython3",
   "version": "3.7.9-final"
  },
  "orig_nbformat": 2,
  "kernelspec": {
   "name": "python379jvsc74a57bd0fd3a8996e0acf5343d074e675d410fb19183f797a5c70d53c910525512c681cc",
   "display_name": "Python 3.7.9 64-bit ('venv')"
  },
  "metadata": {
   "interpreter": {
    "hash": "ac59ebe37160ed0dfa835113d9b8498d9f09ceb179beaac4002f036b9467c963"
   }
  }
 },
 "nbformat": 4,
 "nbformat_minor": 2,
 "cells": [
  {
   "cell_type": "code",
   "execution_count": 8,
   "metadata": {},
   "outputs": [
    {
     "output_type": "error",
     "ename": "ImportError",
     "evalue": "cannot import name 'twoSumGetMostLikely' from 'funcionesArin' (c:\\Users\\javie\\Documents\\Programacion\\Python\\Tecnun\\TrabajoPython2021\\Notebooks\\funcionesArin.py)",
     "traceback": [
      "\u001b[1;31m---------------------------------------------------------------------------\u001b[0m",
      "\u001b[1;31mImportError\u001b[0m                               Traceback (most recent call last)",
      "\u001b[1;32m<ipython-input-8-80ec672c3670>\u001b[0m in \u001b[0;36m<module>\u001b[1;34m\u001b[0m\n\u001b[0;32m      2\u001b[0m \u001b[1;32mimport\u001b[0m \u001b[0mregex\u001b[0m \u001b[1;32mas\u001b[0m \u001b[0mre\u001b[0m\u001b[1;33m\u001b[0m\u001b[1;33m\u001b[0m\u001b[0m\n\u001b[0;32m      3\u001b[0m \u001b[1;32mfrom\u001b[0m \u001b[0mbabel\u001b[0m\u001b[1;33m.\u001b[0m\u001b[0mnumbers\u001b[0m \u001b[1;32mimport\u001b[0m \u001b[0mparse_decimal\u001b[0m\u001b[1;33m\u001b[0m\u001b[1;33m\u001b[0m\u001b[0m\n\u001b[1;32m----> 4\u001b[1;33m \u001b[1;32mfrom\u001b[0m \u001b[0mfuncionesArin\u001b[0m \u001b[1;32mimport\u001b[0m \u001b[0mtwoSum\u001b[0m\u001b[1;33m,\u001b[0m \u001b[0mtwoSumGetMostLikely\u001b[0m\u001b[1;33m\u001b[0m\u001b[1;33m\u001b[0m\u001b[0m\n\u001b[0m\u001b[0;32m      5\u001b[0m \u001b[1;33m\u001b[0m\u001b[0m\n\u001b[0;32m      6\u001b[0m \u001b[1;32mwith\u001b[0m \u001b[0mopen\u001b[0m\u001b[1;33m(\u001b[0m\u001b[1;34m\"../dict_wB.json\"\u001b[0m\u001b[1;33m,\u001b[0m \u001b[1;34m'r'\u001b[0m\u001b[1;33m)\u001b[0m \u001b[1;32mas\u001b[0m \u001b[0mfp\u001b[0m\u001b[1;33m:\u001b[0m\u001b[1;33m\u001b[0m\u001b[1;33m\u001b[0m\u001b[0m\n",
      "\u001b[1;31mImportError\u001b[0m: cannot import name 'twoSumGetMostLikely' from 'funcionesArin' (c:\\Users\\javie\\Documents\\Programacion\\Python\\Tecnun\\TrabajoPython2021\\Notebooks\\funcionesArin.py)"
     ]
    }
   ],
   "source": [
    "import json\n",
    "import regex as re\n",
    "from babel.numbers import parse_decimal\n",
    "from funcionesArin import twoSum, twoSumGetMostLikely\n",
    "\n",
    "with open(\"../dict_wB.json\", 'r') as fp:\n",
    "    data = json.load(fp)\n",
    "\n",
    "# Lista de nombres de archivos\n",
    "print(data.keys())\n",
    "keys = data.keys()\n",
    "arr = []\n",
    "\n",
    "# para leer el contenido de uno de los archivos a secas usar data[nombrearchivo]\n",
    "for filename in data.keys():\n",
    "    dic = {}\n",
    "    #Recogemos los NIF de los archivos\n",
    "    matches = re.findall('([A-Z]-?\\d{8}|\\d{8}[-| ]?[A-Z]|[A-Z]-?\\d{10}|\\d{10}[-| ]?[A-Z])\\s', \\\n",
    "                data[filename])\n",
    "    dic[\"NIF\"] = matches\n",
    "\n",
    "    #Recogemos el precio total de la factura\n",
    "    matches = re.findall('(?:\\d+?\\.?)(?:\\d*\\,\\d{2})', data[filename])\n",
    "    #convertimos a numeros y luego filtramos el maximo\n",
    "    matches = [float(parse_decimal(d, locale=\"es_ES\")) for d in matches]\n",
    "    \n",
    "    if matches:\n",
    "        # Filtremos para quitar los 0 de la lista\n",
    "        matches = list(filter(lambda a: a>0, matches))\n",
    "        dic[\"ListaPrecios\"] = matches\n",
    "        maximum = max(matches)\n",
    "    #Si no ha detectado ningun precio probablemente sea que el numero esta en ingles\n",
    "    else:\n",
    "        matches = re.findall('(?:\\d+?\\,?)(?:\\d*\\.\\d{2})', data[filename])\n",
    "        #print(f\"DEBUG: <{filename}> : \\n\\r{matches}\\n\\r\")\n",
    "        matches = [float(parse_decimal(d, locale=\"en_US\")) for d in matches]\n",
    "        # Filtramos para quitar los 0 de la lista\n",
    "        matches = list(filter(lambda a: a>0, matches))\n",
    "        dic[\"ListaPrecios\"] =  matches\n",
    "        maximum = max(matches)\n",
    "    sumtwo = twoSumGetMostLikely(matches, maximum)\n",
    "    print(f\"{filename} : {sumtwo}\")\n",
    "    dic[\"Precio Total\"] = maximum\n",
    "\n",
    "    arr.append(dic)\n",
    "\n",
    "newdic = dict(zip(keys,arr))\n",
    "print(newdic)\n",
    "\n",
    "with open('NIF.txt', 'w') as f:\n",
    "    for filename in newdic.keys():\n",
    "        f.write(f'{filename}: {newdic[filename]}\\n')"
   ]
  },
  {
   "cell_type": "code",
   "execution_count": null,
   "metadata": {},
   "outputs": [],
   "source": []
  }
 ]
}