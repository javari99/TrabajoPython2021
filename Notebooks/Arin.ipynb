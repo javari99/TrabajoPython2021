{
 "metadata": {
  "language_info": {
   "codemirror_mode": {
    "name": "ipython",
    "version": 3
   },
   "file_extension": ".py",
   "mimetype": "text/x-python",
   "name": "python",
   "nbconvert_exporter": "python",
   "pygments_lexer": "ipython3",
   "version": "3.7.9-final"
  },
  "orig_nbformat": 2,
  "kernelspec": {
   "name": "python379jvsc74a57bd0fd3a8996e0acf5343d074e675d410fb19183f797a5c70d53c910525512c681cc",
   "display_name": "Python 3.7.9 64-bit ('venv')"
  },
  "metadata": {
   "interpreter": {
    "hash": "ac59ebe37160ed0dfa835113d9b8498d9f09ceb179beaac4002f036b9467c963"
   }
  }
 },
 "nbformat": 4,
 "nbformat_minor": 2,
 "cells": [
  {
   "cell_type": "code",
   "execution_count": 18,
   "metadata": {},
   "outputs": [
    {
     "output_type": "stream",
     "name": "stdout",
     "text": [
      "dict_keys(['12OCR (1)', '5ffe46bfc08b4', 'IVALINEAS1 (1)', 'IVALINEAS2 (1)', 'IVALINEAS3 (1)', 'IVANORMAL2 (1)', 'IVANORMAL3 (1)', 'codigoqr', 'factura-luz', 'modelo-factura-es-clasico-blanco-750px', 'modelo-factura-es-puro-750px', 'prueba 1_1', 'prueba 1_10', 'prueba 1_11', 'prueba 1_2', 'prueba 1_3', 'prueba 1_4', 'prueba 1_5', 'prueba 1_6', 'prueba 1_9', 'ticket'])\nDEBUG: <12OCR (1)> : \n['20.00', '20.00', '20.00', '24.20']\n\nDEBUG: <IVALINEAS3 (1)> : \n['201213.04', '347.50', '2,085.00', '201512.09', '99.50', '199.00', '201232.04', '167.50', '167.50', '201494.04', '217.00', '217.00', '201655.04', '268.25', '536.50', '3,205.00', '673.05', '3,878.05', '3205.00', '21.00', '673.05']\n\nDEBUG: <modelo-factura-es-clasico-blanco-750px> : \n['100.00', '100.00', '25.00', '50.00', '15.00', '165.00', '34.65', '199.65']\n\nDEBUG: <modelo-factura-es-puro-750px> : \n['100.00', '100.00', '25.00', '50.00', '15.00', '165.00', '34.65', '199.65']\n\nDEBUG: <prueba 1_6> : \n['10.70', '10.70', '10.70', '13.35', '11.35']\n\n{'12OCR (1)': {'NIF': ['B60593498', 'B61127122'], 'Precio Total': 24.2}, '5ffe46bfc08b4': {'NIF': [], 'Precio Total': 786500.0}, 'IVALINEAS1 (1)': {'NIF': [], 'Precio Total': 1164.02}, 'IVALINEAS2 (1)': {'NIF': ['E-06227490', 'A-06141345'], 'Precio Total': 468.0}, 'IVALINEAS3 (1)': {'NIF': ['A-06141345'], 'Precio Total': 201655.04}, 'IVANORMAL2 (1)': {'NIF': ['A06141345'], 'Precio Total': 156.29}, 'IVANORMAL3 (1)': {'NIF': ['B84866714', 'A06141345'], 'Precio Total': 21646.9}, 'codigoqr': {'NIF': [], 'Precio Total': 850.0}, 'factura-luz': {'NIF': [], 'Precio Total': 36.71}, 'modelo-factura-es-clasico-blanco-750px': {'NIF': [], 'Precio Total': 199.65}, 'modelo-factura-es-puro-750px': {'NIF': [], 'Precio Total': 199.65}, 'prueba 1_1': {'NIF': ['A-95758389', '12164189H'], 'Precio Total': 86.32}, 'prueba 1_10': {'NIF': ['B47776067', '12164189H'], 'Precio Total': 4104.53}, 'prueba 1_11': {'NIF': ['B47776067', '12164189H'], 'Precio Total': 880.26}, 'prueba 1_2': {'NIF': ['12164189H'], 'Precio Total': 66.67}, 'prueba 1_3': {'NIF': ['12164189H', 'A28815017'], 'Precio Total': 11.97}, 'prueba 1_4': {'NIF': ['B74349713', '12164189H'], 'Precio Total': 160.27}, 'prueba 1_5': {'NIF': ['12164189H', 'A83052407'], 'Precio Total': 10.7}, 'prueba 1_6': {'NIF': ['12164189H', 'A83052407'], 'Precio Total': 13.35}, 'prueba 1_9': {'NIF': ['B47776067', '12164189H'], 'Precio Total': 3607.97}, 'ticket': {'NIF': [], 'Precio Total': 722.37}}\n"
     ]
    }
   ],
   "source": [
    "import json\n",
    "import regex as re\n",
    "from babel.numbers import parse_decimal\n",
    "\n",
    "with open(\"../dict_wB.json\", 'r') as fp:\n",
    "    data = json.load(fp)\n",
    "\n",
    "# Lista de nombres de archivos\n",
    "print(data.keys())\n",
    "keys = data.keys()\n",
    "arr = []\n",
    "\n",
    "# para leer el contenido de uno de los archivos a secas usar data[nombrearchivo]\n",
    "for filename in data.keys():\n",
    "    dic = {}\n",
    "    #Recogemos los NIF de los archivos\n",
    "    matches = re.findall('([A-Z]-?\\d{8}|\\d{8}[-| ]?[A-Z]|[A-Z]-?\\d{10}|\\d{10}[-| ]?[A-Z])\\s', \\\n",
    "                data[filename])\n",
    "    dic[\"NIF\"] = matches\n",
    "\n",
    "    #Recogemos el precio total de la factura\n",
    "    matches = re.findall('\\d+?\\.?\\d+,\\d{2}', data[filename])\n",
    "    #convertimos a numeros y luego filtramos el maximo\n",
    "    matches = [float(parse_decimal(d, locale=\"es_ES\")) for d in matches]\n",
    "    if matches:\n",
    "        matches = max(matches)\n",
    "    #Si no ha detectado ningun precio probablemente sea que el numero esta en ingles\n",
    "    else:\n",
    "        matches = re.findall('\\d+?,?\\d+\\.\\d{2}', data[filename])\n",
    "        #print(f\"DEBUG: <{filename}> : \\n\\r{matches}\\n\\r\")\n",
    "        matches = [float(parse_decimal(d, locale=\"en_US\")) for d in matches]\n",
    "        matches = max(matches)\n",
    "\n",
    "    dic[\"Precio Total\"] = matches\n",
    "\n",
    "    arr.append(dic)\n",
    "\n",
    "newdic = dict(zip(keys,arr))\n",
    "print(newdic)\n",
    "\n",
    "with open('NIF.txt', 'w') as f:\n",
    "    for filename in newdic.keys():\n",
    "        f.write(f'{filename}: {newdic[filename]}\\n')"
   ]
  },
  {
   "cell_type": "code",
   "execution_count": null,
   "metadata": {},
   "outputs": [],
   "source": []
  }
 ]
}