{
 "metadata": {
  "language_info": {
   "codemirror_mode": {
    "name": "ipython",
    "version": 3
   },
   "file_extension": ".py",
   "mimetype": "text/x-python",
   "name": "python",
   "nbconvert_exporter": "python",
   "pygments_lexer": "ipython3",
   "version": "3.7.9-final"
  },
  "orig_nbformat": 2,
  "kernelspec": {
   "name": "python379jvsc74a57bd0fd3a8996e0acf5343d074e675d410fb19183f797a5c70d53c910525512c681cc",
   "display_name": "Python 3.7.9 64-bit ('venv')"
  },
  "metadata": {
   "interpreter": {
    "hash": "ac59ebe37160ed0dfa835113d9b8498d9f09ceb179beaac4002f036b9467c963"
   }
  }
 },
 "nbformat": 4,
 "nbformat_minor": 2,
 "cells": [
  {
   "cell_type": "code",
   "execution_count": 18,
   "metadata": {},
   "outputs": [
    {
     "output_type": "stream",
     "name": "stdout",
     "text": [
      "dict_keys(['12OCR (1)', '5ffe46bfc08b4', 'IVALINEAS1 (1)', 'IVALINEAS2 (1)', 'IVALINEAS3 (1)', 'IVANORMAL2 (1)', 'IVANORMAL3 (1)', 'codigoqr', 'factura-luz', 'modelo-factura-es-clasico-blanco-750px', 'modelo-factura-es-puro-750px', 'prueba 1_1', 'prueba 1_10', 'prueba 1_11', 'prueba 1_2', 'prueba 1_3', 'prueba 1_4', 'prueba 1_5', 'prueba 1_6', 'prueba 1_9', 'ticket'])\n{'12OCR (1)': ['B60593498', 'B61127122'], '5ffe46bfc08b4': [], 'IVALINEAS1 (1)': [], 'IVALINEAS2 (1)': ['E-06227490', 'A-06141345'], 'IVALINEAS3 (1)': ['A-06141345'], 'IVANORMAL2 (1)': ['A06141345'], 'IVANORMAL3 (1)': ['B84866714', 'A06141345'], 'codigoqr': [], 'factura-luz': [], 'modelo-factura-es-clasico-blanco-750px': [], 'modelo-factura-es-puro-750px': [], 'prueba 1_1': ['A-95758389', '12164189H'], 'prueba 1_10': ['B47776067', '12164189H'], 'prueba 1_11': ['B47776067', '12164189H'], 'prueba 1_2': ['12164189H'], 'prueba 1_3': ['12164189H', 'A28815017'], 'prueba 1_4': ['B74349713', '12164189H'], 'prueba 1_5': ['12164189H', 'A83052407'], 'prueba 1_6': ['12164189H', 'A83052407'], 'prueba 1_9': ['B47776067', '12164189H'], 'ticket': []}\n"
     ]
    }
   ],
   "source": [
    "import json\n",
    "import regex as re\n",
    "\n",
    "with open(\"../dict_wB.json\", 'r') as fp:\n",
    "    data = json.load(fp)\n",
    "\n",
    "# Lista de nombres de archivos\n",
    "print(data.keys())\n",
    "keys = data.keys()\n",
    "arr = []\n",
    "\n",
    "# para leer el contenido de uno de los archivos a secas usar data[nombrearchivo]\n",
    "for filename in data.keys():\n",
    "    matches = re.findall('([A-Z]-?\\d{8}|\\d{8}[-| ]?[A-Z]|[A-Z]-?\\d{10}|\\d{10}[-| ]?[A-Z])\\s', \\\n",
    "                data[filename])\n",
    "    arr.append(matches)\n",
    "\n",
    "newdic = dict(zip(keys,arr))\n",
    "print(newdic)\n",
    "\n",
    "with open('NIF.txt', 'w') as f:\n",
    "    for filename in newdic.keys():\n",
    "        f.write(f'{filename}: {newdic[filename]}\\n')"
   ]
  },
  {
   "cell_type": "code",
   "execution_count": null,
   "metadata": {},
   "outputs": [],
   "source": []
  }
 ]
}