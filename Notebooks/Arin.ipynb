{
 "metadata": {
  "language_info": {
   "codemirror_mode": {
    "name": "ipython",
    "version": 3
   },
   "file_extension": ".py",
   "mimetype": "text/x-python",
   "name": "python",
   "nbconvert_exporter": "python",
   "pygments_lexer": "ipython3",
   "version": "3.7.9"
  },
  "orig_nbformat": 2,
  "kernelspec": {
   "name": "pythonjvsc74a57bd0fd3a8996e0acf5343d074e675d410fb19183f797a5c70d53c910525512c681cc",
   "display_name": "Python 3.7.9  ('venv': venv)"
  },
  "metadata": {
   "interpreter": {
    "hash": "fd3a8996e0acf5343d074e675d410fb19183f797a5c70d53c910525512c681cc"
   }
  }
 },
 "nbformat": 4,
 "nbformat_minor": 2,
 "cells": [
  {
   "cell_type": "code",
   "execution_count": 2,
   "metadata": {},
   "outputs": [
    {
     "output_type": "stream",
     "name": "stdout",
     "text": [
      "12OCR (1) : (4.2, 20.0)\n",
      "5ffe46bfc08b4 : None\n",
      "Ojito, []\n",
      "IVALINEAS1 (1) : (962.0, 202.02)\n",
      "IVALINEAS2 (1) : (316.68, 31.67)\n",
      "IVALINEAS3 (1) : (3205.0, 673.05)\n",
      "IVANORMAL2 (1) : None\n",
      "Ojito, []\n",
      "IVANORMAL3 (1) : (17890.0, 3756.9)\n",
      "codigoqr : (714.0, 136.0)\n",
      "factura-luz : (31.65, 5.06)\n",
      "modelo-factura-es-clasico-blanco-750px : (165.0, 34.65)\n",
      "modelo-factura-es-puro-750px : (165.0, 34.65)\n",
      "prueba 1_1 : (71.34, 14.98)\n",
      "prueba 1_10 : (3392.17, 712.36)\n",
      "prueba 1_11 : (727.49, 152.77)\n",
      "prueba 1_2 : None\n",
      "Ojito, []\n",
      "prueba 1_3 : (9.89, 2.08)\n",
      "prueba 1_4 : (132.45, 27.82)\n",
      "prueba 1_5 : (2.0, 11.35)\n",
      "prueba 1_6 : (2.0, 11.35)\n",
      "prueba 1_9 : (2981.79, 626.18)\n",
      "ticket : (597.0, 125.37)\n",
      "\n",
      "\n",
      "\n",
      "\n",
      "Diccionario intermedio:\n"
     ]
    }
   ],
   "source": [
    "import json\n",
    "import regex as re\n",
    "from babel.numbers import parse_decimal\n",
    "from funcionesArin import twoSum, twoSumGetMostLikely, findNIF, getAllPricesAndTotal, getAllpossibleIVAConfigs\n",
    "\n",
    "with open(\"../dict_wB.json\", 'r') as fp:\n",
    "    data = json.load(fp)\n",
    "\n",
    "# Lista de nombres de archivos\n",
    "# print(data.keys())\n",
    "keys = data.keys()\n",
    "arr = []\n",
    "\n",
    "# para leer el contenido de uno de los archivos a secas usar data[nombrearchivo]\n",
    "for filename in data.keys():\n",
    "    dic = {}\n",
    "    #Recogemos los NIF de los archivos\n",
    "    nif = findNIF(data[filename])\n",
    "    dic[\"NIF\"] = nif\n",
    "\n",
    "\n",
    "    (allprices, total) = getAllPricesAndTotal(data[filename])\n",
    "    # print(f\"Matches y maximum: {matches}, {maximum}\")\n",
    "    dic[\"ListaPrecios\"] = allprices\n",
    "    dic[\"Precio Total\"] = total\n",
    "\n",
    "    # Vamos a intentar sacar el PRECIO BASE a partir del PRECIO TOTAL\n",
    "    sumtwo = twoSumGetMostLikely(allprices, total)\n",
    "    print(f\"{filename} : {sumtwo}\")\n",
    "\n",
    "    # Ahora hay que dividirlo entre los que ha encontrado con la twosum y los que no,\n",
    "    # A los que no ha encontrado con la twosum \n",
    "    if sumtwo:\n",
    "        # Si entra aquí es que hemos encontrado la base imponible y el precio total así como el importe asociado al iva, por lo que podemos calcular el IVA, puede ser que en ficheros con más de un iva encuentre una combinación así.\n",
    "        precioBase = max(sumtwo)\n",
    "        importeIVA = min(sumtwo)\n",
    "        porcentajeIVA = round(((total - precioBase)/precioBase) * 100, 2)\n",
    "\n",
    "        dic[\"BASE\"] = precioBase\n",
    "        dic[\"IVA CANT\"] = importeIVA\n",
    "        dic[\"%IVA\"] = porcentajeIVA\n",
    "    else:\n",
    "        # WARNING: Este es un algoritmo de brute force. Puede tardar un rato en hacer los cálculos. Debería ejecutarse\n",
    "        # si no ha encontrado dos números \n",
    "        IVAOPTIONS = [0, 0.04, 0.1, 0.105, 0.106, 0.21] #Constant\n",
    "        prueba = getAllpossibleIVAConfigs(IVAOPTIONS, allprices, total)\n",
    "        print(f\"Ojito, {prueba}\")\n",
    "        pass\n",
    "\n",
    "    arr.append(dic)\n",
    "\n",
    "newdic = dict(zip(keys,arr))\n",
    "print(\"\\n\\n\\n\\nDiccionario intermedio:\")\n",
    "# print(newdic)\n",
    "\n",
    "with open('NIF.txt', 'w') as f:\n",
    "    for filename in newdic.keys():\n",
    "        f.write(f'{filename}: {newdic[filename]}\\n')"
   ]
  },
  {
   "cell_type": "code",
   "execution_count": null,
   "metadata": {},
   "outputs": [],
   "source": []
  }
 ]
}