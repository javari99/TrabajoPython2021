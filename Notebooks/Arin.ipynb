{
 "metadata": {
  "language_info": {
   "codemirror_mode": {
    "name": "ipython",
    "version": 3
   },
   "file_extension": ".py",
   "mimetype": "text/x-python",
   "name": "python",
   "nbconvert_exporter": "python",
   "pygments_lexer": "ipython3",
   "version": "3.7.9-final"
  },
  "orig_nbformat": 2,
  "kernelspec": {
   "name": "python379jvsc74a57bd0fd3a8996e0acf5343d074e675d410fb19183f797a5c70d53c910525512c681cc",
   "display_name": "Python 3.7.9 64-bit ('venv')"
  },
  "metadata": {
   "interpreter": {
    "hash": "ac59ebe37160ed0dfa835113d9b8498d9f09ceb179beaac4002f036b9467c963"
   }
  }
 },
 "nbformat": 4,
 "nbformat_minor": 2,
 "cells": [
  {
   "cell_type": "code",
   "execution_count": 1,
   "metadata": {},
   "outputs": [
    {
     "output_type": "stream",
     "name": "stdout",
     "text": [
      "dict_keys(['12OCR (1)', '5ffe46bfc08b4', 'IVALINEAS1 (1)', 'IVALINEAS2 (1)', 'IVALINEAS3 (1)', 'IVANORMAL2 (1)', 'IVANORMAL3 (1)', 'codigoqr', 'factura-luz', 'modelo-factura-es-clasico-blanco-750px', 'modelo-factura-es-puro-750px', 'prueba 1_1', 'prueba 1_10', 'prueba 1_11', 'prueba 1_2', 'prueba 1_3', 'prueba 1_4', 'prueba 1_5', 'prueba 1_6', 'prueba 1_9', 'ticket'])\n\nGrup\ntt\nTRENC\nCecassa\nServeis per Empreses\nGRUP CECASSA ASSESSORS, S.L.\nPABLO IGLESIAS, 63 08302 MATARÓ\n16000109\nTEL. 93 741 25 60 FAX 93 757 83 71\nN.I.F. ES B60593498\nGERSOFT HISPANIA S.L.\ncecassa@cecassa.com\nCL PABLO IGLESIAS 63 13\n08302 MATARO\nBARCELONA\nN.I.F: B61127122\nData Factura\nFactura\n01/03/16\n16/457\nArticle\nConcepte\nUnitats\nPreu Unitari\nTotal\nProvisions\n0204\nQUOTA DEL MES LABORAL\n1,00\n20.00\n20.00\nBase Imposable\n%\nQuota I.V.A.\nTotal Factura\n20.00\n21\n4,20\n24.20\nHonoraris\nPagaments Delegats\nProvisions de Fons\n"
     ]
    }
   ],
   "source": [
    "import json\n",
    "with open(\"../dict_wB.json\", 'r') as fp:\n",
    "    data = json.load(fp)\n",
    "\n",
    "# Lista de nombres de archivos\n",
    "print(data.keys())\n",
    "\n",
    "# para leer el contenido de uno de los archivos a secas usar data[nombrearchivo]\n",
    "print(data['12OCR (1)'])"
   ]
  },
  {
   "cell_type": "code",
   "execution_count": null,
   "metadata": {},
   "outputs": [],
   "source": []
  }
 ]
}