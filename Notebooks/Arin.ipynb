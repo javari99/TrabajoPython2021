{
 "metadata": {
  "language_info": {
   "codemirror_mode": {
    "name": "ipython",
    "version": 3
   },
   "file_extension": ".py",
   "mimetype": "text/x-python",
   "name": "python",
   "nbconvert_exporter": "python",
   "pygments_lexer": "ipython3",
   "version": "3.7.9-final"
  },
  "orig_nbformat": 2,
  "kernelspec": {
   "name": "python379jvsc74a57bd0fd3a8996e0acf5343d074e675d410fb19183f797a5c70d53c910525512c681cc",
   "display_name": "Python 3.7.9 64-bit ('venv')"
  },
  "metadata": {
   "interpreter": {
    "hash": "ac59ebe37160ed0dfa835113d9b8498d9f09ceb179beaac4002f036b9467c963"
   }
  }
 },
 "nbformat": 4,
 "nbformat_minor": 2,
 "cells": [
  {
   "cell_type": "code",
   "execution_count": 6,
   "metadata": {},
   "outputs": [
    {
     "output_type": "stream",
     "name": "stdout",
     "text": [
      "12OCR (1) : (4.2, 20.0)\n5ffe46bfc08b4 : None\nIVALINEAS1 (1) : (962.0, 202.02)\nIVALINEAS2 (1) : None\nIVALINEAS3 (1) : None\nIVANORMAL2 (1) : None\nIVANORMAL3 (1) : (17890.0, 3756.9)\ncodigoqr : (714.0, 136.0)\nfactura-luz : (31.65, 5.06)\nmodelo-factura-es-clasico-blanco-750px : (165.0, 34.65)\nmodelo-factura-es-puro-750px : (165.0, 34.65)\nprueba 1_1 : None\nprueba 1_10 : (3392.17, 712.36)\nprueba 1_11 : (727.49, 152.77)\nprueba 1_2 : None\nprueba 1_3 : None\nprueba 1_4 : None\nprueba 1_5 : (2.0, 11.35)\nprueba 1_6 : (2.0, 11.35)\nprueba 1_9 : (2981.79, 626.18)\nticket : (597.0, 125.37)\n\n\n\n\nDiccionario intermedio:\n"
     ]
    }
   ],
   "source": [
    "import json\n",
    "import regex as re\n",
    "from babel.numbers import parse_decimal\n",
    "from funcionesArin import twoSum, twoSumGetMostLikely, findNIF, getAllPricesAndTotal\n",
    "\n",
    "with open(\"../dict_wB.json\", 'r') as fp:\n",
    "    data = json.load(fp)\n",
    "\n",
    "# Lista de nombres de archivos\n",
    "# print(data.keys())\n",
    "keys = data.keys()\n",
    "arr = []\n",
    "\n",
    "# para leer el contenido de uno de los archivos a secas usar data[nombrearchivo]\n",
    "for filename in data.keys():\n",
    "    dic = {}\n",
    "    #Recogemos los NIF de los archivos\n",
    "    matches = findNIF(data[filename])\n",
    "    dic[\"NIF\"] = matches\n",
    "\n",
    "\n",
    "    (matches, maximum) = getAllPricesAndTotal(data[filename])\n",
    "    # print(f\"Matches y maximum: {matches}, {maximum}\")\n",
    "    dic[\"ListaPrecios\"] = matches\n",
    "    dic[\"Precio Total\"] = maximum\n",
    "\n",
    "    # Vamos a intentar sacar el PRECIO BASE a partir del PRECIO TOTAL\n",
    "    sumtwo = twoSumGetMostLikely(matches, maximum)\n",
    "    print(f\"{filename} : {sumtwo}\")\n",
    "\n",
    "    # Ahora hay que dividirlo entre los que ha encontrado con la twosum y los que no,\n",
    "    # A los que no ha encontrado con la twosum \n",
    "    if sumtwo:\n",
    "        precioBase = max(sumtwo)\n",
    "        importeIVA = min(sumtwo)\n",
    "        porcentajeIVA = round(((maximum - precioBase)/precioBase) * 100, 2)\n",
    "\n",
    "        dic[\"BASE\"] = precioBase\n",
    "        dic[\"IVA CANT\"] = importeIVA\n",
    "        dic[\"%IVA\"] = porcentajeIVA\n",
    "        # Si entra aquí es que hemos encontrado la base imponible y el precio total así como el importe asociado al iva, por lo que podemos calcular el IVA\n",
    "    else:\n",
    "        pass\n",
    "    arr.append(dic)\n",
    "\n",
    "newdic = dict(zip(keys,arr))\n",
    "print(\"\\n\\n\\n\\nDiccionario intermedio:\")\n",
    "# print(newdic)\n",
    "\n",
    "with open('NIF.txt', 'w') as f:\n",
    "    for filename in newdic.keys():\n",
    "        f.write(f'{filename}: {newdic[filename]}\\n')"
   ]
  },
  {
   "cell_type": "code",
   "execution_count": null,
   "metadata": {},
   "outputs": [],
   "source": []
  }
 ]
}