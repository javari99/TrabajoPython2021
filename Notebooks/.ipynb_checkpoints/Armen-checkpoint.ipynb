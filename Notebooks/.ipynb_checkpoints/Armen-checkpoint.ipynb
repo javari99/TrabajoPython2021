{
 "cells": [
  {
   "cell_type": "code",
   "execution_count": 2,
   "metadata": {},
   "outputs": [
    {
     "name": "stdout",
     "output_type": "stream",
     "text": [
      "dict_keys(['12OCR (1)', '5ffe46bfc08b4', 'IVALINEAS1 (1)', 'IVALINEAS2 (1)', 'IVALINEAS3 (1)', 'IVANORMAL2 (1)', 'IVANORMAL3 (1)', 'codigoqr', 'factura-luz', 'modelo-factura-es-clasico-blanco-750px', 'modelo-factura-es-puro-750px', 'prueba 1_1', 'prueba 1_10', 'prueba 1_11', 'prueba 1_2', 'prueba 1_3', 'prueba 1_4', 'prueba 1_5', 'prueba 1_6', 'prueba 1_9', 'ticket'])\n",
      "{'12OCR (1)': [[('01/03/16', '')]], '5ffe46bfc08b4': [[('13/10/2020', '20'), ('01/01/19', ''), ('23/10/2020', '20')]], 'IVALINEAS1 (1)': [[('10/01/2017', '20')]], 'IVALINEAS2 (1)': [[('16/3/2016', '20')], [('16-ene-17', 'ene', '')]], 'IVALINEAS3 (1)': [[('26/10/2022', '20'), ('17/10/2022', '20'), ('17/04/2022', '20'), ('25/10/2022', '20'), ('18/09/2022', '20'), ('44-46-21', '')]], 'IVANORMAL2 (1)': [[('17/01/2017', '20'), ('15-34-24', ''), ('28/11/89', '')]], 'IVANORMAL3 (1)': [[('02/01/2017', '20'), ('30/01/2017', '20')]], 'codigoqr': [[('13/02/2018', '20'), ('13/03/2018', '20')]], 'factura-luz': [[('29/06/2009', '20'), ('07/01/2010', '20'), ('29/12/2009', '20'), ('30/11/2009', '20'), ('30/11/2009', '20'), ('29/12/2009', '20')]], 'modelo-factura-es-clasico-blanco-750px': [[('29/01/2019', '20'), ('29/01/2019', '20')]], 'modelo-factura-es-puro-750px': [[('29/01/2019', '20'), ('29/01/2019', '20')]], 'prueba 1_1': [[('20/01/2020', '20'), ('18/02/2020', '20'), ('27/02/2020', '20')], [('19 de febrero de 2020', 'de', 'febrero', 'de')]], 'prueba 1_10': [[('28/02/2020', '20'), ('28/02/2020', '20')]], 'prueba 1_11': [[('31/03/2020', '20'), ('31/03/2020', '20')]], 'prueba 1_2': [[('18/02/2020', '20'), ('17/03/2020', '20'), ('26/03/2020', '20')], [('18 de marzo de 2020', 'de', 'marzo', 'de')]], 'prueba 1_3': [[('31/01/2020', '20'), ('31/01/20', ''), ('29/02/2020', '20')]], 'prueba 1_4': [[('31/01/2020', '20'), ('01/01/2020', '20'), ('31/01/2020', '20'), ('02/01/2020', '20'), ('13/01/2020', '20')]], 'prueba 1_5': [[('02/03/2020', '20'), ('02/03/2020', '20')]], 'prueba 1_6': [[('04/01/2020', '20'), ('04/01/2020', '20')]], 'prueba 1_9': [[('31/01/2020', '20'), ('31/01/2020', '20')]], 'ticket': [[('09/25/2019', '20')]]}\n"
     ]
    }
   ],
   "source": [
    "import json\n",
    "import regex as re\n",
    "\n",
    "with open(\"../dict_wB.json\", 'r') as fp:\n",
    "    data = json.load(fp)\n",
    "\n",
    "# Lista de nombres de archivos\n",
    "print(data.keys())\n",
    "keys = data.keys()\n",
    "arr = []\n",
    "\n",
    "# para leer el contenido de uno de los archivos a secas usar data[nombrearchivo]\n",
    "#Grupo 1\n",
    "for filename in data.keys():\n",
    "    #G1\n",
    "    intarr = []\n",
    "    matches = re.findall('\\d{1,2}[\\/|-]\\d{1,2}[\\/|-]\\d{1,4}', \\\n",
    "                data[filename])\n",
    "    if matches:\n",
    "        intarr.append(matches)\n",
    "    #G2\n",
    "    matches = re.findall('([0-9]{1,2}-(ene|feb|mar|abr|may|jun|jul|ago|set|oct|nov|dic)-(20)?[0-9]{2,4})', \\\n",
    "                data[filename])\n",
    "    if matches:\n",
    "        intarr.append(matches)\n",
    "    #G3\n",
    "    matches = re.findall('([0-9]{1,2} (de) (enero|febrero|marzo|abril|mayo|junio|julio|agosto|septiembre|octubre|noviembre|diciembre) (de) [0-9]{2,4})', \\\n",
    "                data[filename])\n",
    "    if matches:\n",
    "        intarr.append(matches)\n",
    "    #G4\n",
    "    matches = re.findall('([0-9]{1,2} (Enero|Febrero|Marzo|Abril|Mayo|Junio|Julio|Agosto|Septiembre|Octubre|Noviembre|Diciembre) [0-9]{2,4})', \\\n",
    "                data[filename])\n",
    "    if matches:\n",
    "        intarr.append(matches)\n",
    "    \n",
    "    arr.append(intarr)\n",
    "    \n",
    "#Grupo 2    \n",
    "\"\"\"\n",
    "for filename in data.keys():\n",
    "    matches = re.findall('([0-9]{1,2}-(ene|feb|mar|abr|may|jun|jul|ago|set|oct|nov|dic)-(20)?[0-9]{2,4})', \\\n",
    "                data[filename])\n",
    "    arr.append(matches)\n",
    "    \n",
    "#Grupo 3\n",
    "for filename in data.keys():\n",
    "    matches = re.findall('([0-9]{1,2} (de) (enero|febrero|marzo|abril|mayo|junio|julio|agosto|septiembre|octubre|noviembre|diciembre) (de) [0-9]{2,4})', \\\n",
    "                data[filename])\n",
    "    arr.append(matches)\n",
    "\n",
    "#Grupo 4\n",
    "for filename in data.keys():\n",
    "    matches = re.findall('([0-9]{1,2} (Enero|Febrero|Marzo|Abril|Mayo|Junio|Julio|Agosto|Septiembre|Octubre|Noviembre|Diciembre) [0-9]{2,4})', \\\n",
    "                data[filename])\n",
    "    arr.append(matches)\n",
    "\"\"\"\n",
    "    \n",
    "newdic = dict(zip(keys,arr))\n",
    "print(newdic)\n",
    "\n",
    "with open('fechas.txt', 'w') as f:\n",
    "    for filename in newdic.keys():\n",
    "        f.write(f'{filename}: {newdic[filename]}\\n')"
   ]
  },
  {
   "cell_type": "code",
   "execution_count": null,
   "metadata": {},
   "outputs": [],
   "source": []
  }
 ],
 "metadata": {
  "kernelspec": {
   "display_name": "Python 3",
   "language": "python",
   "name": "python3"
  },
  "language_info": {
   "codemirror_mode": {
    "name": "ipython",
    "version": 3
   },
   "file_extension": ".py",
   "mimetype": "text/x-python",
   "name": "python",
   "nbconvert_exporter": "python",
   "pygments_lexer": "ipython3",
   "version": "3.7.9"
  }
 },
 "nbformat": 4,
 "nbformat_minor": 2
}
