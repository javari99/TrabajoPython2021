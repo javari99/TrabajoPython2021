{
 "cells": [
  {
   "cell_type": "code",
   "execution_count": 28,
   "metadata": {
    "scrolled": true
   },
   "outputs": [
    {
     "name": "stdout",
     "output_type": "stream",
     "text": [
      "dict_keys(['12OCR (1)', '5ffe46bfc08b4', 'IVALINEAS1 (1)', 'IVALINEAS2 (1)', 'IVALINEAS3 (1)', 'IVANORMAL2 (1)', 'IVANORMAL3 (1)', 'codigoqr', 'factura-luz', 'modelo-factura-es-clasico-blanco-750px', 'modelo-factura-es-puro-750px', 'prueba 1_1', 'prueba 1_10', 'prueba 1_11', 'prueba 1_2', 'prueba 1_3', 'prueba 1_4', 'prueba 1_5', 'prueba 1_6', 'prueba 1_9', 'ticket'])\n"
     ]
    },
    {
     "ename": "IndexError",
     "evalue": "list index out of range",
     "output_type": "error",
     "traceback": [
      "\u001b[1;31m---------------------------------------------------------------------------\u001b[0m",
      "\u001b[1;31mIndexError\u001b[0m                                Traceback (most recent call last)",
      "\u001b[1;32m<ipython-input-28-98031d75ba75>\u001b[0m in \u001b[0;36m<module>\u001b[1;34m\u001b[0m\n\u001b[0;32m     22\u001b[0m     \u001b[1;32mif\u001b[0m \u001b[0mmatches\u001b[0m\u001b[1;33m:\u001b[0m\u001b[1;33m\u001b[0m\u001b[1;33m\u001b[0m\u001b[0m\n\u001b[0;32m     23\u001b[0m         \u001b[1;32mfor\u001b[0m \u001b[0mi\u001b[0m \u001b[1;32min\u001b[0m \u001b[0mrange\u001b[0m\u001b[1;33m(\u001b[0m\u001b[0mlen\u001b[0m\u001b[1;33m(\u001b[0m\u001b[0mmatches\u001b[0m\u001b[1;33m)\u001b[0m\u001b[1;33m)\u001b[0m\u001b[1;33m:\u001b[0m\u001b[1;33m\u001b[0m\u001b[1;33m\u001b[0m\u001b[0m\n\u001b[1;32m---> 24\u001b[1;33m             \u001b[0mmatches\u001b[0m\u001b[1;33m[\u001b[0m\u001b[0mi\u001b[0m\u001b[1;33m]\u001b[0m \u001b[1;33m=\u001b[0m \u001b[0mextraerFecha_0\u001b[0m\u001b[1;33m(\u001b[0m\u001b[0mmatches\u001b[0m\u001b[1;33m[\u001b[0m\u001b[0mi\u001b[0m\u001b[1;33m]\u001b[0m\u001b[1;33m)\u001b[0m\u001b[1;33m\u001b[0m\u001b[1;33m\u001b[0m\u001b[0m\n\u001b[0m\u001b[0;32m     25\u001b[0m             \u001b[0maux\u001b[0m\u001b[1;33m=\u001b[0m\u001b[0mmatches\u001b[0m\u001b[1;33m[\u001b[0m\u001b[0mi\u001b[0m\u001b[1;33m]\u001b[0m\u001b[1;33m.\u001b[0m\u001b[0msplit\u001b[0m\u001b[1;33m(\u001b[0m\u001b[1;34m','\u001b[0m\u001b[1;33m)\u001b[0m\u001b[1;33m\u001b[0m\u001b[1;33m\u001b[0m\u001b[0m\n\u001b[0;32m     26\u001b[0m \u001b[1;33m\u001b[0m\u001b[0m\n",
      "\u001b[1;32m~\\Desktop\\Trabajo Python\\TrabajoPython2021\\Notebooks\\funcionesArmen.py\u001b[0m in \u001b[0;36mextraerFecha_0\u001b[1;34m(fech)\u001b[0m\n\u001b[0;32m      3\u001b[0m     \u001b[0mo\u001b[0m\u001b[1;33m=\u001b[0m\u001b[0mfech\u001b[0m\u001b[1;33m.\u001b[0m\u001b[0mreplace\u001b[0m\u001b[1;33m(\u001b[0m\u001b[1;34m'-'\u001b[0m\u001b[1;33m,\u001b[0m\u001b[1;34m'/'\u001b[0m\u001b[1;33m)\u001b[0m\u001b[1;33m\u001b[0m\u001b[1;33m\u001b[0m\u001b[0m\n\u001b[0;32m      4\u001b[0m     \u001b[0mo\u001b[0m\u001b[1;33m=\u001b[0m\u001b[0mo\u001b[0m\u001b[1;33m.\u001b[0m\u001b[0msplit\u001b[0m\u001b[1;33m(\u001b[0m\u001b[1;34m'/'\u001b[0m\u001b[1;33m)\u001b[0m\u001b[1;33m\u001b[0m\u001b[1;33m\u001b[0m\u001b[0m\n\u001b[1;32m----> 5\u001b[1;33m     \u001b[0mfecha_final_0_aux\u001b[0m\u001b[1;33m=\u001b[0m\u001b[0mLogic\u001b[0m\u001b[1;33m(\u001b[0m\u001b[0mo\u001b[0m\u001b[1;33m)\u001b[0m\u001b[1;33m\u001b[0m\u001b[1;33m\u001b[0m\u001b[0m\n\u001b[0m\u001b[0;32m      6\u001b[0m     \u001b[0mfecha_final_0\u001b[0m\u001b[1;33m=\u001b[0m\u001b[1;34m'/'\u001b[0m\u001b[1;33m.\u001b[0m\u001b[0mjoin\u001b[0m\u001b[1;33m(\u001b[0m\u001b[0mfecha_final_0_aux\u001b[0m\u001b[1;33m)\u001b[0m\u001b[1;33m\u001b[0m\u001b[1;33m\u001b[0m\u001b[0m\n\u001b[0;32m      7\u001b[0m     \u001b[1;32mreturn\u001b[0m \u001b[0mfecha_final_0\u001b[0m\u001b[1;33m\u001b[0m\u001b[1;33m\u001b[0m\u001b[0m\n",
      "\u001b[1;32m~\\Desktop\\Trabajo Python\\TrabajoPython2021\\Notebooks\\funcionesArmen.py\u001b[0m in \u001b[0;36mLogic\u001b[1;34m(dato)\u001b[0m\n\u001b[0;32m     35\u001b[0m \u001b[1;33m\u001b[0m\u001b[0m\n\u001b[0;32m     36\u001b[0m \u001b[1;32mdef\u001b[0m \u001b[0mLogic\u001b[0m\u001b[1;33m(\u001b[0m\u001b[0mdato\u001b[0m\u001b[1;33m)\u001b[0m\u001b[1;33m:\u001b[0m \u001b[1;31m#Funcion para evitar resultados ilógicos.\u001b[0m\u001b[1;33m\u001b[0m\u001b[1;33m\u001b[0m\u001b[0m\n\u001b[1;32m---> 37\u001b[1;33m     \u001b[1;32mif\u001b[0m \u001b[0mfloat\u001b[0m\u001b[1;33m(\u001b[0m\u001b[0mdato\u001b[0m\u001b[1;33m[\u001b[0m\u001b[1;36m0\u001b[0m\u001b[1;33m]\u001b[0m\u001b[1;33m)\u001b[0m\u001b[1;33m>\u001b[0m\u001b[1;36m31\u001b[0m \u001b[1;32mor\u001b[0m \u001b[0mfloat\u001b[0m\u001b[1;33m(\u001b[0m\u001b[0mdato\u001b[0m\u001b[1;33m[\u001b[0m\u001b[1;36m1\u001b[0m\u001b[1;33m]\u001b[0m\u001b[1;33m)\u001b[0m\u001b[1;33m>\u001b[0m\u001b[1;36m12\u001b[0m \u001b[1;32mor\u001b[0m  \u001b[0mfloat\u001b[0m\u001b[1;33m(\u001b[0m\u001b[0mdato\u001b[0m\u001b[1;33m[\u001b[0m\u001b[1;36m2\u001b[0m\u001b[1;33m]\u001b[0m\u001b[1;33m)\u001b[0m\u001b[1;33m>\u001b[0m\u001b[1;36m2025\u001b[0m\u001b[1;33m:\u001b[0m\u001b[1;33m\u001b[0m\u001b[1;33m\u001b[0m\u001b[0m\n\u001b[0m\u001b[0;32m     38\u001b[0m          \u001b[0mvuelta\u001b[0m\u001b[1;33m=\u001b[0m\u001b[1;33m[\u001b[0m\u001b[1;34m\"00/00/0000\"\u001b[0m\u001b[1;33m]\u001b[0m\u001b[1;33m\u001b[0m\u001b[1;33m\u001b[0m\u001b[0m\n\u001b[0;32m     39\u001b[0m     \u001b[1;32melse\u001b[0m\u001b[1;33m:\u001b[0m\u001b[1;33m\u001b[0m\u001b[1;33m\u001b[0m\u001b[0m\n",
      "\u001b[1;31mIndexError\u001b[0m: list index out of range"
     ]
    }
   ],
   "source": [
    "import json\n",
    "import regex as re\n",
    "from funcionesArmen import extraerFecha_1, extraerFecha_2, extraerFecha_3,extraerFecha_0, Logic\n",
    "\n",
    "\n",
    "\n",
    "with open(\"C:/Users/iarme/Desktop/Trabajo Python/TrabajoPython2021/dict_wB.json\", 'r') as fp:\n",
    "    data = json.load(fp)\n",
    "\n",
    "# Lista de nombres de archivos\n",
    "print(data.keys())\n",
    "keys = data.keys()\n",
    "arr = []\n",
    "aux_2=[]\n",
    "# para leer el contenido de uno de los archivos a secas usar data[nombrearchivo]\n",
    "#Grupo 1\n",
    "for filename in data.keys():\n",
    "    #G1\n",
    "    intarr = []\n",
    "    matches = re.findall('\\d{1,2}[\\/|-]\\d{1,2}[\\/|-]\\d{1,4}', \\\n",
    "                data[filename])\n",
    "    if matches:\n",
    "        for i in range(len(matches)):\n",
    "            matches[i] = extraerFecha_0(matches[i])\n",
    "            aux=matches[i].split(',')\n",
    "         \n",
    "            for w in range(len(aux)):\n",
    "                \n",
    "                if aux[w]!=\"00/00/0000\":\n",
    "                    aux_2.append(aux[w])\n",
    "            matches[i]=','.join(aux_2)\n",
    "                    \n",
    "        intarr.append(matches)\n",
    "    \n",
    "\n",
    "   \n",
    "            \n",
    "#---------------------------------------------------------------------------------------------------------------------------\n",
    "    #G2\n",
    "    matches = re.findall('([0-9]{1,2}-(ene|feb|mar|abr|may|jun|jul|ago|set|oct|nov|dic)-(20)?[0-9]{2,4})', \\\n",
    "                data[filename])\n",
    "    if matches:\n",
    "        for i in range(len(matches)):\n",
    "            matches[i] = matches[i][0] #Linea para quedarnos con el primer elemento de la tupla que es la que nos intersa\n",
    "            #Antes de escribir le cambiamos el formato para que quede con un formato con el que podamos meter a excel\n",
    "            matches[i] = extraerFecha_1(matches[i])\n",
    "        intarr.append(matches)        \n",
    "#------------------------------------------------------------------------------------------------------------------------------            \n",
    "    #G3\n",
    "    matches = re.findall('([0-9]{1,2} (de) (enero|febrero|marzo|abril|mayo|junio|julio|agosto|septiembre|octubre|noviembre|diciembre) (de) [0-9]{2,4})', \\\n",
    "                data[filename])\n",
    "    if matches:\n",
    "        for i in range(len(matches)):\n",
    "            matches[i] = matches[i][0]#Linea para quedarnos con el primer elemento de la tupla que es la que nos intersa\n",
    "            #Antes de escribir le cambiamos el formato para que quede con un formato con el que podamos meter a excel\n",
    "            matches[i] = extraerFecha_2(matches[i]) \n",
    "        intarr.append(matches)  \n",
    "    #G4\n",
    "    matches = re.findall('([0-9]{1,2} (Enero|Febrero|Marzo|Abril|Mayo|Junio|Julio|Agosto|Septiembre|Octubre|Noviembre|Diciembre) [0-9]{2,4})', \\\n",
    "                data[filename])\n",
    "    if matches:\n",
    "        for i in range(len(matches)):\n",
    "            matches[i] = matches[i][0]#Linea para quedarnos con el primer elemento de la tupla que es la que nos intersa\n",
    "            #Antes de escribir le cambiamos el formato para que quede con un formato con el que podamos meter a excel\n",
    "            matches[i] = extraerFecha_3(matches[i]) \n",
    "        intarr.append(matches)\n",
    "    \n",
    "    arr.append(intarr)\n",
    "newdic = dict(zip(keys,arr))\n",
    "print(newdic)\n",
    "\n",
    "with open('fechas_n.txt', 'w') as f:\n",
    "    for filename in newdic.keys():\n",
    "        f.write(f'{filename}: {newdic[filename]}\\n')\n",
    "        \n",
    "\n",
    "for a in newdic.keys():\n",
    "    newdic[a]"
   ]
  },
  {
   "cell_type": "code",
   "execution_count": 2,
   "metadata": {},
   "outputs": [
    {
     "name": "stdout",
     "output_type": "stream",
     "text": [
      "45/enero/2345\n"
     ]
    }
   ],
   "source": []
  },
  {
   "cell_type": "code",
   "execution_count": null,
   "metadata": {},
   "outputs": [],
   "source": []
  }
 ],
 "metadata": {
  "kernelspec": {
   "display_name": "Python 3",
   "language": "python",
   "name": "python3"
  },
  "language_info": {
   "codemirror_mode": {
    "name": "ipython",
    "version": 3
   },
   "file_extension": ".py",
   "mimetype": "text/x-python",
   "name": "python",
   "nbconvert_exporter": "python",
   "pygments_lexer": "ipython3",
   "version": "3.7.9"
  }
 },
 "nbformat": 4,
 "nbformat_minor": 2
}
