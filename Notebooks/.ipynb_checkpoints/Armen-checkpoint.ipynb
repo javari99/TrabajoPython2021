{
 "cells": [
  {
   "cell_type": "code",
   "execution_count": 1,
   "metadata": {},
   "outputs": [
    {
     "ename": "ModuleNotFoundError",
     "evalue": "No module named 'funcinoesArmen'",
     "output_type": "error",
     "traceback": [
      "\u001b[1;31m---------------------------------------------------------------------------\u001b[0m",
      "\u001b[1;31mModuleNotFoundError\u001b[0m                       Traceback (most recent call last)",
      "\u001b[1;32m<ipython-input-1-5d3db53a6371>\u001b[0m in \u001b[0;36m<module>\u001b[1;34m\u001b[0m\n\u001b[0;32m      2\u001b[0m \u001b[1;32mimport\u001b[0m \u001b[0mregex\u001b[0m \u001b[1;32mas\u001b[0m \u001b[0mre\u001b[0m\u001b[1;33m\u001b[0m\u001b[1;33m\u001b[0m\u001b[0m\n\u001b[0;32m      3\u001b[0m \u001b[1;32mfrom\u001b[0m \u001b[0mfuncionesArmen\u001b[0m \u001b[1;32mimport\u001b[0m \u001b[0mextraerFecha_1\u001b[0m\u001b[1;33m\u001b[0m\u001b[1;33m\u001b[0m\u001b[0m\n\u001b[1;32m----> 4\u001b[1;33m \u001b[1;32mfrom\u001b[0m \u001b[0mfuncinoesArmen\u001b[0m \u001b[1;32mimport\u001b[0m \u001b[0mextraerFecha_2\u001b[0m\u001b[1;33m\u001b[0m\u001b[1;33m\u001b[0m\u001b[0m\n\u001b[0m\u001b[0;32m      5\u001b[0m \u001b[1;32mfrom\u001b[0m \u001b[0mfuncionesArmen\u001b[0m \u001b[1;32mimport\u001b[0m \u001b[0mextraerFecha_3\u001b[0m\u001b[1;33m\u001b[0m\u001b[1;33m\u001b[0m\u001b[0m\n\u001b[0;32m      6\u001b[0m \u001b[1;33m\u001b[0m\u001b[0m\n",
      "\u001b[1;31mModuleNotFoundError\u001b[0m: No module named 'funcinoesArmen'"
     ]
    }
   ],
   "source": [
    "import json\n",
    "import regex as re\n",
    "from funcionesArmen import extraerFecha_1, extraerFecha_2, extraerFecha_3\n",
    "\n",
    "\n",
    "\n",
    "with open(\"C:/Users/iarme/Desktop/Trabajo Python/TrabajoPython2021/dict_wB.json\", 'r') as fp:\n",
    "    data = json.load(fp)\n",
    "\n",
    "# Lista de nombres de archivos\n",
    "print(data.keys())\n",
    "keys = data.keys()\n",
    "arr = []\n",
    "\n",
    "# para leer el contenido de uno de los archivos a secas usar data[nombrearchivo]\n",
    "#Grupo 1\n",
    "for filename in data.keys():\n",
    "    #G1\n",
    "    intarr = []\n",
    "    matches = re.findall('\\d{1,2}[\\/|-]\\d{1,2}[\\/|-]\\d{1,4}', \\\n",
    "                data[filename])\n",
    "    if matches:\n",
    "        intarr.append(matches)\n",
    "    #G2\n",
    "    matches = re.findall('([0-9]{1,2}-(ene|feb|mar|abr|may|jun|jul|ago|set|oct|nov|dic)-(20)?[0-9]{2,4})', \\\n",
    "                data[filename])\n",
    "    if matches:\n",
    "        for i in range(len(matches)):\n",
    "            matches[i] = matches[i][0] #Linea para quedarnos con el primer elemento de la tupla que es la que nos intersa\n",
    "            #Antes de escribir le cambiamos el formato para que quede con un formato con el que podamos meter a excel\n",
    "            matches[i] = extraerFecha_1(matches[i])\n",
    "        intarr.append(matches)        \n",
    "            \n",
    "    #G3\n",
    "    matches = re.findall('([0-9]{1,2} (de) (enero|febrero|marzo|abril|mayo|junio|julio|agosto|septiembre|octubre|noviembre|diciembre) (de) [0-9]{2,4})', \\\n",
    "                data[filename])\n",
    "    if matches:\n",
    "        for i in range(len(matches)):\n",
    "            matches[i] = matches[i][0]#Linea para quedarnos con el primer elemento de la tupla que es la que nos intersa\n",
    "            #Antes de escribir le cambiamos el formato para que quede con un formato con el que podamos meter a excel\n",
    "            matches[i] = extraerFecha_2(matches[i]) \n",
    "        intarr.append(matches)  \n",
    "    #G4\n",
    "    matches = re.findall('([0-9]{1,2} (Enero|Febrero|Marzo|Abril|Mayo|Junio|Julio|Agosto|Septiembre|Octubre|Noviembre|Diciembre) [0-9]{2,4})', \\\n",
    "                data[filename])\n",
    "    if matches:\n",
    "        for i in range(len(matches)):\n",
    "            matches[i] = matches[i][0]#Linea para quedarnos con el primer elemento de la tupla que es la que nos intersa\n",
    "            #Antes de escribir le cambiamos el formato para que quede con un formato con el que podamos meter a excel\n",
    "            matches[i] = extraerFecha_3(matches[i]) \n",
    "        intarr.append(matches)\n",
    "    \n",
    "    arr.append(intarr)\n",
    "newdic = dict(zip(keys,arr))\n",
    "print(newdic)\n",
    "\n",
    "with open('fechas_n.txt', 'w') as f:\n",
    "    for filename in newdic.keys():\n",
    "        f.write(f'{filename}: {newdic[filename]}\\n')\n",
    "        \n",
    "\n",
    "for a in newdic.keys():\n",
    "    newdic[a]"
   ]
  },
  {
   "cell_type": "code",
   "execution_count": null,
   "metadata": {},
   "outputs": [],
   "source": []
  },
  {
   "cell_type": "code",
   "execution_count": null,
   "metadata": {},
   "outputs": [],
   "source": []
  }
 ],
 "metadata": {
  "kernelspec": {
   "display_name": "Python 3",
   "language": "python",
   "name": "python3"
  },
  "language_info": {
   "codemirror_mode": {
    "name": "ipython",
    "version": 3
   },
   "file_extension": ".py",
   "mimetype": "text/x-python",
   "name": "python",
   "nbconvert_exporter": "python",
   "pygments_lexer": "ipython3",
   "version": "3.7.9"
  }
 },
 "nbformat": 4,
 "nbformat_minor": 2
}
