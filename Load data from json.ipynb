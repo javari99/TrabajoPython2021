{
 "cells": [
  {
   "cell_type": "code",
   "execution_count": 1,
   "metadata": {},
   "outputs": [],
   "source": [
    "import json\n",
    "with open(\"./data/output/dict_wB.json\", 'r') as fp:\n",
    "    data = json. load(fp)"
   ]
  },
  {
   "cell_type": "code",
   "execution_count": 6,
   "metadata": {},
   "outputs": [
    {
     "data": {
      "text/plain": [
       "dict_keys(['12OCR (1)', '5ffe46bfc08b4', 'IVALINEAS1 (1)', 'IVALINEAS2 (1)', 'IVALINEAS3 (1)', 'IVANORMAL2 (1)', 'IVANORMAL3 (1)', 'codigoqr', 'factura-luz', 'modelo-factura-es-clasico-blanco-750px', 'modelo-factura-es-puro-750px', 'prueba 1_1', 'prueba 1_10', 'prueba 1_11', 'prueba 1_2', 'prueba 1_3', 'prueba 1_4', 'prueba 1_5', 'prueba 1_6', 'prueba 1_9', 'ticket'])"
      ]
     },
     "execution_count": 6,
     "metadata": {},
     "output_type": "execute_result"
    }
   ],
   "source": [
    "data.keys()\n"
   ]
  },
  {
   "cell_type": "code",
   "execution_count": 8,
   "metadata": {},
   "outputs": [
    {
     "name": "stdout",
     "output_type": "stream",
     "text": [
      "\n",
      "FACTURA DE ELECTRICIDAD\n",
      "IBERDROLA\n",
      "Hoja número 1 /1\n",
      "Remite. IBERDROLA COMERCIALIZACIÓN Ùl, TIMO RECURSO,S.A.U. Apdo. 138 Azuqueca de Henares 19200\n",
      "1\n",
      "DATOS DEL CONTRATO\n",
      "Guadalajara\n",
      "DY 751 MS037339237001\n",
      "S114 009246 009460 20091230\n",
      "47013 VALLADOLID\n",
      "Potencia 3,45 kW\n",
      "AENOR\n",
      "Tarifa ATR 2.0 A\n",
      "Precios B.O.E. del 29/06/2009\n",
      "Número de póliza del contrato de acceso 0266006796\n",
      "ER\n",
      "impresa\n",
      "Forma de pago\n",
      "Regisirada\n",
      "UNE ENTSO 9001\n",
      "ER -1684/2005\n",
      "\"\n",
      "E Net\n",
      "Fecha de cargo: 07/01/2010\n",
      "2\n",
      "FACTURACION\n",
      "EUROS\n",
      "Potencia contratada\n",
      "3,45 kW X 29 días x 5,5075 cent.€/kW día\n",
      "5,51\n",
      "Energía consumida\n",
      "210 kWh x 11,473 cent.€/kWh\n",
      "24,09\n",
      "Impuesto sobre electricidad\n",
      "4,864% s/29,6 x 1,05113\n",
      "1,51\n",
      "Alquiler equipos de medida\n",
      "29 días x 1,874 cent.€/día\n",
      "0,54\n",
      "IVA\n",
      "16% s/31,65\n",
      "5,06\n",
      "IMPORTE\n",
      "36,71\n",
      "3\n",
      "CONSUMO\n",
      "Historial del Consumo\n",
      "1750\n",
      "N° contador\n",
      "0062218963\n",
      "Lectura actual (real)\n",
      "29/12/2009\n",
      "007539,0\n",
      "1500\n",
      "- Lectura anterior\n",
      "30/11/2009\n",
      "- 007329,0\n",
      "1250\n",
      "Consumo del periodo (real)\n",
      "30/11/2009 a 29/12/2009\n",
      "210 kWh\n",
      "1000\n",
      "750\n",
      "1 kilovatio-hora (kWh) equivale al consumo de una lámpara de 100 vatios\n",
      "500\n",
      "funcionando durante 10 horas.\n",
      "250\n",
      "a\n",
      "kWh\n",
      "Dc. En. Fb. Mr. Ab. Jn. Jn. Ag. Ag. St. Oc. Nv. Dc.\n",
      "08 09\n",
      "Consumo medio mensual: 275 kWh\n",
      "Precio medio (sin IVA) Mes actual: 15,07 Cent. €/kWh\n",
      "4\n",
      "INFORMACIÓN DE UTILIDAD\n",
      "Se ha procedido a regularizar las lecturas facturadas de forma estimada\n",
      "En el cálculo del término de potencia y de alquileres se han considerado los días del período facturado.\n",
      "Atención al Cliente 24 horas: 901 202020\n",
      "ALICANTE\n",
      "www.berdrola.com\n",
      "Mod. B00001\n",
      "2008-2009\n",
      "VUELTA AL MUNDO A VELA\n"
     ]
    }
   ],
   "source": [
    "print(data[\"factura-luz\"])"
   ]
  }
 ],
 "metadata": {
  "kernelspec": {
   "display_name": "Python 3",
   "language": "python",
   "name": "python3"
  },
  "language_info": {
   "codemirror_mode": {
    "name": "ipython",
    "version": 3
   },
   "file_extension": ".py",
   "mimetype": "text/x-python",
   "name": "python",
   "nbconvert_exporter": "python",
   "pygments_lexer": "ipython3",
   "version": "3.7.3"
  }
 },
 "nbformat": 4,
 "nbformat_minor": 2
}
