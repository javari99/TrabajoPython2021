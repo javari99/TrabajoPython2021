{
 "cells": [
  {
   "cell_type": "code",
   "execution_count": 3,
   "metadata": {},
   "outputs": [],
   "source": [
    "import json\n",
    "with open(\"./dict_wB.json\", 'r') as fp:\n",
    "    data = json.load(fp)"
   ]
  },
  {
   "cell_type": "code",
   "execution_count": 4,
   "metadata": {},
   "outputs": [
    {
     "output_type": "execute_result",
     "data": {
      "text/plain": [
       "dict_keys(['12OCR (1)', '5ffe46bfc08b4', 'IVALINEAS1 (1)', 'IVALINEAS2 (1)', 'IVALINEAS3 (1)', 'IVANORMAL2 (1)', 'IVANORMAL3 (1)', 'codigoqr', 'factura-luz', 'modelo-factura-es-clasico-blanco-750px', 'modelo-factura-es-puro-750px', 'prueba 1_1', 'prueba 1_10', 'prueba 1_11', 'prueba 1_2', 'prueba 1_3', 'prueba 1_4', 'prueba 1_5', 'prueba 1_6', 'prueba 1_9', 'ticket'])"
      ]
     },
     "metadata": {},
     "execution_count": 4
    }
   ],
   "source": [
    "data.keys()\n"
   ]
  },
  {
   "cell_type": "code",
   "execution_count": 5,
   "metadata": {},
   "outputs": [
    {
     "output_type": "stream",
     "name": "stdout",
     "text": [
      "\nFACTURA DE ELECTRICIDAD\nIBERDROLA\nHoja número 1 /1\nRemite. IBERDROLA COMERCIALIZACIÓN Ùl, TIMO RECURSO,S.A.U. Apdo. 138 Azuqueca de Henares 19200\n1\nDATOS DEL CONTRATO\nGuadalajara\nDY 751 MS037339237001\nS114 009246 009460 20091230\n47013 VALLADOLID\nPotencia 3,45 kW\nAENOR\nTarifa ATR 2.0 A\nPrecios B.O.E. del 29/06/2009\nNúmero de póliza del contrato de acceso 0266006796\nER\nimpresa\nForma de pago\nRegisirada\nUNE ENTSO 9001\nER -1684/2005\n\"\nE Net\nFecha de cargo: 07/01/2010\n2\nFACTURACION\nEUROS\nPotencia contratada\n3,45 kW X 29 días x 5,5075 cent.€/kW día\n5,51\nEnergía consumida\n210 kWh x 11,473 cent.€/kWh\n24,09\nImpuesto sobre electricidad\n4,864% s/29,6 x 1,05113\n1,51\nAlquiler equipos de medida\n29 días x 1,874 cent.€/día\n0,54\nIVA\n16% s/31,65\n5,06\nIMPORTE\n36,71\n3\nCONSUMO\nHistorial del Consumo\n1750\nN° contador\n0062218963\nLectura actual (real)\n29/12/2009\n007539,0\n1500\n- Lectura anterior\n30/11/2009\n- 007329,0\n1250\nConsumo del periodo (real)\n30/11/2009 a 29/12/2009\n210 kWh\n1000\n750\n1 kilovatio-hora (kWh) equivale al consumo de una lámpara de 100 vatios\n500\nfuncionando durante 10 horas.\n250\na\nkWh\nDc. En. Fb. Mr. Ab. Jn. Jn. Ag. Ag. St. Oc. Nv. Dc.\n08 09\nConsumo medio mensual: 275 kWh\nPrecio medio (sin IVA) Mes actual: 15,07 Cent. €/kWh\n4\nINFORMACIÓN DE UTILIDAD\nSe ha procedido a regularizar las lecturas facturadas de forma estimada\nEn el cálculo del término de potencia y de alquileres se han considerado los días del período facturado.\nAtención al Cliente 24 horas: 901 202020\nALICANTE\nwww.berdrola.com\nMod. B00001\n2008-2009\nVUELTA AL MUNDO A VELA\n"
     ]
    }
   ],
   "source": [
    "print(data[\"factura-luz\"])"
   ]
  },
  {
   "cell_type": "code",
   "execution_count": null,
   "metadata": {},
   "outputs": [],
   "source": []
  }
 ],
 "metadata": {
  "kernelspec": {
   "name": "python3",
   "display_name": "Python 3.7.9 64-bit ('venv')",
   "metadata": {
    "interpreter": {
     "hash": "fd3a8996e0acf5343d074e675d410fb19183f797a5c70d53c910525512c681cc"
    }
   }
  },
  "language_info": {
   "codemirror_mode": {
    "name": "ipython",
    "version": 3
   },
   "file_extension": ".py",
   "mimetype": "text/x-python",
   "name": "python",
   "nbconvert_exporter": "python",
   "pygments_lexer": "ipython3",
   "version": "3.7.9-final"
  }
 },
 "nbformat": 4,
 "nbformat_minor": 2
}