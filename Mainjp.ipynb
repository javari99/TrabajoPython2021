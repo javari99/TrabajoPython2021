{
 "metadata": {
  "language_info": {
   "codemirror_mode": {
    "name": "ipython",
    "version": 3
   },
   "file_extension": ".py",
   "mimetype": "text/x-python",
   "name": "python",
   "nbconvert_exporter": "python",
   "pygments_lexer": "ipython3",
   "version": "3.7.9"
  },
  "orig_nbformat": 2,
  "kernelspec": {
   "name": "pythonjvsc74a57bd0fd3a8996e0acf5343d074e675d410fb19183f797a5c70d53c910525512c681cc",
   "display_name": "Python 3.7.9  ('venv': venv)"
  },
  "metadata": {
   "interpreter": {
    "hash": "fd3a8996e0acf5343d074e675d410fb19183f797a5c70d53c910525512c681cc"
   }
  }
 },
 "nbformat": 4,
 "nbformat_minor": 2,
 "cells": [
  {
   "cell_type": "code",
   "execution_count": 45,
   "metadata": {},
   "outputs": [],
   "source": [
    "\"\"\"\n",
    "import json\n",
    "import regex as re\n",
    "import pandas as pd\n",
    "import numpy as np\n",
    "\n",
    "with open(\"./dict_wB.json\", 'r') as fp:\n",
    "    data = json.load(fp)\n",
    "\n",
    "\n",
    "df = pd.DataFrame([], columns = ['FILENAME', 'REGISTRO', 'FECHA REGISTRO', 'FECHA EXPEDICION', \\\n",
    "    'NOMBRE', 'NIF', 'NUMERO DE FACTURA', 'BASE', '%IVA', 'IVA CANT', 'TOTAL'])\n",
    "\n",
    "for filename in data.keys():\n",
    "    PROTO = pd.DataFrame([filename], columns=['FILENAME'])\n",
    "    df = df.append(PROTO, ignore_index=True)\n",
    "\"\"\"\n",
    "dic = {\"hola\":4, \"que\":3, \"sasd\":1,\"rty\":5} \n",
    "arr = [\"hola\", \"que\"]\n",
    "print(dic[arr])    \n"
   ]
  },
  {
   "cell_type": "code",
   "execution_count": 43,
   "metadata": {},
   "outputs": [
    {
     "output_type": "execute_result",
     "data": {
      "text/plain": [
       "                                  FILENAME REGISTRO FECHA REGISTRO  \\\n",
       "0                                12OCR (1)      NaN            NaN   \n",
       "1                            5ffe46bfc08b4      NaN            NaN   \n",
       "2                           IVALINEAS1 (1)      NaN            NaN   \n",
       "3                           IVALINEAS2 (1)      NaN            NaN   \n",
       "4                           IVALINEAS3 (1)      NaN            NaN   \n",
       "5                           IVANORMAL2 (1)      NaN            NaN   \n",
       "6                           IVANORMAL3 (1)      NaN            NaN   \n",
       "7                                 codigoqr      NaN            NaN   \n",
       "8                              factura-luz      NaN            NaN   \n",
       "9   modelo-factura-es-clasico-blanco-750px      NaN            NaN   \n",
       "10            modelo-factura-es-puro-750px      NaN            NaN   \n",
       "11                              prueba 1_1      NaN            NaN   \n",
       "12                             prueba 1_10      NaN            NaN   \n",
       "13                             prueba 1_11      NaN            NaN   \n",
       "14                              prueba 1_2      NaN            NaN   \n",
       "15                              prueba 1_3      NaN            NaN   \n",
       "16                              prueba 1_4      NaN            NaN   \n",
       "17                              prueba 1_5      NaN            NaN   \n",
       "18                              prueba 1_6      NaN            NaN   \n",
       "19                              prueba 1_9      NaN            NaN   \n",
       "20                                  ticket      NaN            NaN   \n",
       "\n",
       "   FECHA EXPEDICION NOMBRE  NIF NUMERO DE FACTURA BASE %IVA IVA CANT TOTAL  \n",
       "0               NaN    NaN  NaN               NaN  NaN  NaN      NaN   NaN  \n",
       "1               NaN    NaN  NaN               NaN  NaN  NaN      NaN   NaN  \n",
       "2               NaN    NaN  NaN               NaN  NaN  NaN      NaN   NaN  \n",
       "3               NaN    NaN  NaN               NaN  NaN  NaN      NaN   NaN  \n",
       "4               NaN    NaN  NaN               NaN  NaN  NaN      NaN   NaN  \n",
       "5               NaN    NaN  NaN               NaN  NaN  NaN      NaN   NaN  \n",
       "6               NaN    NaN  NaN               NaN  NaN  NaN      NaN   NaN  \n",
       "7               NaN    NaN  NaN               NaN  NaN  NaN      NaN   NaN  \n",
       "8               NaN    NaN  NaN               NaN  NaN  NaN      NaN   NaN  \n",
       "9               NaN    NaN  NaN               NaN  NaN  NaN      NaN   NaN  \n",
       "10              NaN    NaN  NaN               NaN  NaN  NaN      NaN   NaN  \n",
       "11              NaN    NaN  NaN               NaN  NaN  NaN      NaN   NaN  \n",
       "12              NaN    NaN  NaN               NaN  NaN  NaN      NaN   NaN  \n",
       "13              NaN    NaN  NaN               NaN  NaN  NaN      NaN   NaN  \n",
       "14              NaN    NaN  NaN               NaN  NaN  NaN      NaN   NaN  \n",
       "15              NaN    NaN  NaN               NaN  NaN  NaN      NaN   NaN  \n",
       "16              NaN    NaN  NaN               NaN  NaN  NaN      NaN   NaN  \n",
       "17              NaN    NaN  NaN               NaN  NaN  NaN      NaN   NaN  \n",
       "18              NaN    NaN  NaN               NaN  NaN  NaN      NaN   NaN  \n",
       "19              NaN    NaN  NaN               NaN  NaN  NaN      NaN   NaN  \n",
       "20              NaN    NaN  NaN               NaN  NaN  NaN      NaN   NaN  "
      ],
      "text/html": "<div>\n<style scoped>\n    .dataframe tbody tr th:only-of-type {\n        vertical-align: middle;\n    }\n\n    .dataframe tbody tr th {\n        vertical-align: top;\n    }\n\n    .dataframe thead th {\n        text-align: right;\n    }\n</style>\n<table border=\"1\" class=\"dataframe\">\n  <thead>\n    <tr style=\"text-align: right;\">\n      <th></th>\n      <th>FILENAME</th>\n      <th>REGISTRO</th>\n      <th>FECHA REGISTRO</th>\n      <th>FECHA EXPEDICION</th>\n      <th>NOMBRE</th>\n      <th>NIF</th>\n      <th>NUMERO DE FACTURA</th>\n      <th>BASE</th>\n      <th>%IVA</th>\n      <th>IVA CANT</th>\n      <th>TOTAL</th>\n    </tr>\n  </thead>\n  <tbody>\n    <tr>\n      <th>0</th>\n      <td>12OCR (1)</td>\n      <td>NaN</td>\n      <td>NaN</td>\n      <td>NaN</td>\n      <td>NaN</td>\n      <td>NaN</td>\n      <td>NaN</td>\n      <td>NaN</td>\n      <td>NaN</td>\n      <td>NaN</td>\n      <td>NaN</td>\n    </tr>\n    <tr>\n      <th>1</th>\n      <td>5ffe46bfc08b4</td>\n      <td>NaN</td>\n      <td>NaN</td>\n      <td>NaN</td>\n      <td>NaN</td>\n      <td>NaN</td>\n      <td>NaN</td>\n      <td>NaN</td>\n      <td>NaN</td>\n      <td>NaN</td>\n      <td>NaN</td>\n    </tr>\n    <tr>\n      <th>2</th>\n      <td>IVALINEAS1 (1)</td>\n      <td>NaN</td>\n      <td>NaN</td>\n      <td>NaN</td>\n      <td>NaN</td>\n      <td>NaN</td>\n      <td>NaN</td>\n      <td>NaN</td>\n      <td>NaN</td>\n      <td>NaN</td>\n      <td>NaN</td>\n    </tr>\n    <tr>\n      <th>3</th>\n      <td>IVALINEAS2 (1)</td>\n      <td>NaN</td>\n      <td>NaN</td>\n      <td>NaN</td>\n      <td>NaN</td>\n      <td>NaN</td>\n      <td>NaN</td>\n      <td>NaN</td>\n      <td>NaN</td>\n      <td>NaN</td>\n      <td>NaN</td>\n    </tr>\n    <tr>\n      <th>4</th>\n      <td>IVALINEAS3 (1)</td>\n      <td>NaN</td>\n      <td>NaN</td>\n      <td>NaN</td>\n      <td>NaN</td>\n      <td>NaN</td>\n      <td>NaN</td>\n      <td>NaN</td>\n      <td>NaN</td>\n      <td>NaN</td>\n      <td>NaN</td>\n    </tr>\n    <tr>\n      <th>5</th>\n      <td>IVANORMAL2 (1)</td>\n      <td>NaN</td>\n      <td>NaN</td>\n      <td>NaN</td>\n      <td>NaN</td>\n      <td>NaN</td>\n      <td>NaN</td>\n      <td>NaN</td>\n      <td>NaN</td>\n      <td>NaN</td>\n      <td>NaN</td>\n    </tr>\n    <tr>\n      <th>6</th>\n      <td>IVANORMAL3 (1)</td>\n      <td>NaN</td>\n      <td>NaN</td>\n      <td>NaN</td>\n      <td>NaN</td>\n      <td>NaN</td>\n      <td>NaN</td>\n      <td>NaN</td>\n      <td>NaN</td>\n      <td>NaN</td>\n      <td>NaN</td>\n    </tr>\n    <tr>\n      <th>7</th>\n      <td>codigoqr</td>\n      <td>NaN</td>\n      <td>NaN</td>\n      <td>NaN</td>\n      <td>NaN</td>\n      <td>NaN</td>\n      <td>NaN</td>\n      <td>NaN</td>\n      <td>NaN</td>\n      <td>NaN</td>\n      <td>NaN</td>\n    </tr>\n    <tr>\n      <th>8</th>\n      <td>factura-luz</td>\n      <td>NaN</td>\n      <td>NaN</td>\n      <td>NaN</td>\n      <td>NaN</td>\n      <td>NaN</td>\n      <td>NaN</td>\n      <td>NaN</td>\n      <td>NaN</td>\n      <td>NaN</td>\n      <td>NaN</td>\n    </tr>\n    <tr>\n      <th>9</th>\n      <td>modelo-factura-es-clasico-blanco-750px</td>\n      <td>NaN</td>\n      <td>NaN</td>\n      <td>NaN</td>\n      <td>NaN</td>\n      <td>NaN</td>\n      <td>NaN</td>\n      <td>NaN</td>\n      <td>NaN</td>\n      <td>NaN</td>\n      <td>NaN</td>\n    </tr>\n    <tr>\n      <th>10</th>\n      <td>modelo-factura-es-puro-750px</td>\n      <td>NaN</td>\n      <td>NaN</td>\n      <td>NaN</td>\n      <td>NaN</td>\n      <td>NaN</td>\n      <td>NaN</td>\n      <td>NaN</td>\n      <td>NaN</td>\n      <td>NaN</td>\n      <td>NaN</td>\n    </tr>\n    <tr>\n      <th>11</th>\n      <td>prueba 1_1</td>\n      <td>NaN</td>\n      <td>NaN</td>\n      <td>NaN</td>\n      <td>NaN</td>\n      <td>NaN</td>\n      <td>NaN</td>\n      <td>NaN</td>\n      <td>NaN</td>\n      <td>NaN</td>\n      <td>NaN</td>\n    </tr>\n    <tr>\n      <th>12</th>\n      <td>prueba 1_10</td>\n      <td>NaN</td>\n      <td>NaN</td>\n      <td>NaN</td>\n      <td>NaN</td>\n      <td>NaN</td>\n      <td>NaN</td>\n      <td>NaN</td>\n      <td>NaN</td>\n      <td>NaN</td>\n      <td>NaN</td>\n    </tr>\n    <tr>\n      <th>13</th>\n      <td>prueba 1_11</td>\n      <td>NaN</td>\n      <td>NaN</td>\n      <td>NaN</td>\n      <td>NaN</td>\n      <td>NaN</td>\n      <td>NaN</td>\n      <td>NaN</td>\n      <td>NaN</td>\n      <td>NaN</td>\n      <td>NaN</td>\n    </tr>\n    <tr>\n      <th>14</th>\n      <td>prueba 1_2</td>\n      <td>NaN</td>\n      <td>NaN</td>\n      <td>NaN</td>\n      <td>NaN</td>\n      <td>NaN</td>\n      <td>NaN</td>\n      <td>NaN</td>\n      <td>NaN</td>\n      <td>NaN</td>\n      <td>NaN</td>\n    </tr>\n    <tr>\n      <th>15</th>\n      <td>prueba 1_3</td>\n      <td>NaN</td>\n      <td>NaN</td>\n      <td>NaN</td>\n      <td>NaN</td>\n      <td>NaN</td>\n      <td>NaN</td>\n      <td>NaN</td>\n      <td>NaN</td>\n      <td>NaN</td>\n      <td>NaN</td>\n    </tr>\n    <tr>\n      <th>16</th>\n      <td>prueba 1_4</td>\n      <td>NaN</td>\n      <td>NaN</td>\n      <td>NaN</td>\n      <td>NaN</td>\n      <td>NaN</td>\n      <td>NaN</td>\n      <td>NaN</td>\n      <td>NaN</td>\n      <td>NaN</td>\n      <td>NaN</td>\n    </tr>\n    <tr>\n      <th>17</th>\n      <td>prueba 1_5</td>\n      <td>NaN</td>\n      <td>NaN</td>\n      <td>NaN</td>\n      <td>NaN</td>\n      <td>NaN</td>\n      <td>NaN</td>\n      <td>NaN</td>\n      <td>NaN</td>\n      <td>NaN</td>\n      <td>NaN</td>\n    </tr>\n    <tr>\n      <th>18</th>\n      <td>prueba 1_6</td>\n      <td>NaN</td>\n      <td>NaN</td>\n      <td>NaN</td>\n      <td>NaN</td>\n      <td>NaN</td>\n      <td>NaN</td>\n      <td>NaN</td>\n      <td>NaN</td>\n      <td>NaN</td>\n      <td>NaN</td>\n    </tr>\n    <tr>\n      <th>19</th>\n      <td>prueba 1_9</td>\n      <td>NaN</td>\n      <td>NaN</td>\n      <td>NaN</td>\n      <td>NaN</td>\n      <td>NaN</td>\n      <td>NaN</td>\n      <td>NaN</td>\n      <td>NaN</td>\n      <td>NaN</td>\n      <td>NaN</td>\n    </tr>\n    <tr>\n      <th>20</th>\n      <td>ticket</td>\n      <td>NaN</td>\n      <td>NaN</td>\n      <td>NaN</td>\n      <td>NaN</td>\n      <td>NaN</td>\n      <td>NaN</td>\n      <td>NaN</td>\n      <td>NaN</td>\n      <td>NaN</td>\n      <td>NaN</td>\n    </tr>\n  </tbody>\n</table>\n</div>"
     },
     "metadata": {},
     "execution_count": 43
    }
   ],
   "source": [
    "df"
   ]
  },
  {
   "cell_type": "code",
   "execution_count": null,
   "metadata": {},
   "outputs": [],
   "source": []
  }
 ]
}